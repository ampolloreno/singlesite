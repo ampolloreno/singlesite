{
 "cells": [
  {
   "cell_type": "code",
   "execution_count": 11,
   "metadata": {},
   "outputs": [
    {
     "data": {
      "text/plain": [
       "timeevolve (generic function with 1 method)"
      ]
     },
     "execution_count": 11,
     "metadata": {},
     "output_type": "execute_result"
    }
   ],
   "source": [
    "function timeevolve(evolution_time, ψ, H, step) # Assume H is proportional to Z\n",
    "    T = [0.0:step:evolution_time;]\n",
    "    a = 1\n",
    "    b = 1\n",
    "    for t in T\n",
    "        c = cos(H(t) * step)\n",
    "        d = sin(H(t) * step)\n",
    "        a *= c - 1.0im*d\n",
    "        b *= c + 1.0im*d\n",
    "    end\n",
    "    [ψ[1] * a,  ψ[2] * b]\n",
    "end"
   ]
  },
  {
   "cell_type": "code",
   "execution_count": 14,
   "metadata": {},
   "outputs": [
    {
     "data": {
      "text/plain": [
       "2-element Array{Complex{Float64},1}:\n",
       " -0.00014401870347878682 - 0.707106766520182im\n",
       " -0.00014401870347878682 + 0.707106766520182im"
      ]
     },
     "execution_count": 14,
     "metadata": {},
     "output_type": "execute_result"
    }
   ],
   "source": [
    "ψ = 1/sqrt(2) * [1 , 1]\n",
    "H(t) = 1\n",
    "step = .001\n",
    "evolution_time = π/2\n",
    "timeevolve(evolution_time, ψ, H, step)"
   ]
  },
  {
   "cell_type": "code",
   "execution_count": null,
   "metadata": {},
   "outputs": [],
   "source": []
  }
 ],
 "metadata": {
  "kernelspec": {
   "display_name": "Julia 1.5.1",
   "language": "julia",
   "name": "julia-1.5"
  },
  "language_info": {
   "file_extension": ".jl",
   "mimetype": "application/julia",
   "name": "julia",
   "version": "1.5.1"
  }
 },
 "nbformat": 4,
 "nbformat_minor": 4
}
