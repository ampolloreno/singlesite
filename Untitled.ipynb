{
 "cells": [
  {
   "cell_type": "code",
   "execution_count": 19,
   "metadata": {},
   "outputs": [
    {
     "data": {
      "text/plain": [
       "timeevolve (generic function with 1 method)"
      ]
     },
     "execution_count": 19,
     "metadata": {},
     "output_type": "execute_result"
    }
   ],
   "source": [
    "function timeevolve(evolution_time, ψ, H, step) # Assume H is proportional to Z\n",
    "    T = [0.0:step:evolution_time;]\n",
    "    a = 1\n",
    "    b = 1\n",
    "    for t in T\n",
    "        c = cos(H(t) * step)\n",
    "        d = sin(H(t) * step)\n",
    "        a *= c - 1.0im*d\n",
    "        b *= c + 1.0im*d\n",
    "    end\n",
    "    [ψ[1] * a,  ψ[2] * b]\n",
    "end"
   ]
  },
  {
   "cell_type": "code",
   "execution_count": 32,
   "metadata": {},
   "outputs": [
    {
     "data": {
      "text/plain": [
       "-5.176381778049153e-8 + 0.7071067812085763im"
      ]
     },
     "execution_count": 32,
     "metadata": {},
     "output_type": "execute_result"
    }
   ],
   "source": [
    "x[2]"
   ]
  },
  {
   "cell_type": "code",
   "execution_count": 54,
   "metadata": {},
   "outputs": [
    {
     "data": {
      "text/plain": [
       "2-element Array{Complex{Float64},1}:\n",
       " 0.7068858200591085 - 0.01767589885189391im\n",
       " 0.7068858200591085 + 0.01767589885189391im"
      ]
     },
     "execution_count": 54,
     "metadata": {},
     "output_type": "execute_result"
    }
   ],
   "source": [
    "ψ = 1/sqrt(2) * [1 , 1]\n",
    "H(t) = 1\n",
    "step = 10E-9\n",
    "evolution_time = π/(2 * 2 * π * 10E3 * .001)\n",
    "x = timeevolve(evolution_time, ψ, H, step)"
   ]
  },
  {
   "cell_type": "code",
   "execution_count": 21,
   "metadata": {},
   "outputs": [
    {
     "data": {
      "text/plain": [
       "-1.0000000000623015"
      ]
     },
     "execution_count": 21,
     "metadata": {},
     "output_type": "execute_result"
    }
   ],
   "source": [
    "real(adjoint(x) * [[0 1]; [1 0]]*x)"
   ]
  },
  {
   "cell_type": "code",
   "execution_count": 22,
   "metadata": {},
   "outputs": [
    {
     "data": {
      "text/plain": [
       "0.31415926535897937"
      ]
     },
     "execution_count": 22,
     "metadata": {},
     "output_type": "execute_result"
    }
   ],
   "source": [
    "2 * π * 10E3 * .00001/2"
   ]
  },
  {
   "cell_type": "code",
   "execution_count": 8,
   "metadata": {},
   "outputs": [
    {
     "data": {
      "text/plain": [
       "1.5707963267948966"
      ]
     },
     "execution_count": 8,
     "metadata": {},
     "output_type": "execute_result"
    }
   ],
   "source": [
    "H(1) * evolution_time * 2"
   ]
  },
  {
   "cell_type": "code",
   "execution_count": 68,
   "metadata": {},
   "outputs": [
    {
     "data": {
      "text/plain": [
       "2-element Array{Complex{Float64},1}:\n",
       " 0.7071067811865084 - 1.4421000130397093e-9im\n",
       " 0.7071067811865084 + 1.4421000130397093e-9im"
      ]
     },
     "execution_count": 68,
     "metadata": {},
     "output_type": "execute_result"
    }
   ],
   "source": [
    "ψ = 1/sqrt(2) * [1 , 1]\n",
    "amp = .00001\n",
    "H(t) = 2 * π * 10E3 * cos(1*2*π*180E3 * t + π/2 + 2 * amp/2)\n",
    "step = 10E-6\n",
    "evolution_time = π/(2 * 2 * π * 10E3 * amp)\n",
    "x = timeevolve(evolution_time, ψ, H, step)"
   ]
  },
  {
   "cell_type": "code",
   "execution_count": 24,
   "metadata": {},
   "outputs": [
    {
     "data": {
      "text/plain": [
       "2.4999999999999996"
      ]
     },
     "execution_count": 24,
     "metadata": {},
     "output_type": "execute_result"
    }
   ],
   "source": [
    "π/(2 * 2 * π * 10E3 * .00001)"
   ]
  },
  {
   "cell_type": "code",
   "execution_count": 25,
   "metadata": {},
   "outputs": [
    {
     "data": {
      "text/plain": [
       "-0.9999999986412383"
      ]
     },
     "execution_count": 25,
     "metadata": {},
     "output_type": "execute_result"
    }
   ],
   "source": [
    "real(adjoint(x) * [[0 1]; [1 0]]*x)"
   ]
  },
  {
   "cell_type": "code",
   "execution_count": null,
   "metadata": {},
   "outputs": [],
   "source": []
  }
 ],
 "metadata": {
  "kernelspec": {
   "display_name": "Julia 1.5.1",
   "language": "julia",
   "name": "julia-1.5"
  },
  "language_info": {
   "file_extension": ".jl",
   "mimetype": "application/julia",
   "name": "julia",
   "version": "1.5.1"
  }
 },
 "nbformat": 4,
 "nbformat_minor": 4
}
